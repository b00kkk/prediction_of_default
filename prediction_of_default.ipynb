{
  "nbformat": 4,
  "nbformat_minor": 0,
  "metadata": {
    "colab": {
      "provenance": []
    },
    "kernelspec": {
      "name": "python3",
      "display_name": "Python 3"
    },
    "language_info": {
      "name": "python"
    }
  },
  "cells": [
    {
      "cell_type": "code",
      "execution_count": 86,
      "metadata": {
        "id": "zhjZQa_TSmnZ"
      },
      "outputs": [],
      "source": [
        "import warnings\n",
        "warnings.filterwarnings('ignore')\n",
        "\n",
        "# 데이터 처리\n",
        "import pandas as pd\n",
        "import numpy as np\n",
        "\n",
        "# 데이터 전처리\n",
        "from sklearn.preprocessing import LabelEncoder, StandardScaler\n",
        "from sklearn.impute import KNNImputer\n",
        "from sklearn.model_selection import train_test_split, cross_val_score\n",
        "\n",
        "# 모델\n",
        "from sklearn.linear_model import SGDClassifier\n",
        "from sklearn.pipeline import make_pipeline\n",
        "from sklearn.metrics import roc_auc_score, roc_curve\n",
        "\n",
        "\n",
        "import matplotlib.pyplot as plt\n",
        "import seaborn as sns"
      ]
    },
    {
      "cell_type": "code",
      "source": [
        "train_df = pd.read_csv(\"./train.csv\")\n",
        "test_df = pd.read_csv(\"./test.csv\")\n",
        "\n",
        "# \"UID\" 컬럼 처리\n",
        "test_uid = test_df[[\"UID\"]]\n",
        "train_df.drop(columns=[\"UID\"], inplace=True)\n",
        "test_df.drop(columns=[\"UID\"], inplace=True)\n",
        "\n",
        "# X, y 분리\n",
        "X = train_df.drop(columns=[\"채무 불이행 여부\"])\n",
        "y = train_df[\"채무 불이행 여부\"]"
      ],
      "metadata": {
        "id": "nRJzur4dTpwg"
      },
      "execution_count": 87,
      "outputs": []
    },
    {
      "cell_type": "code",
      "source": [
        "# 파생 변수 생성: \"마지막 연체 이후 경과 개월 수\"가 0이면 \"연체 없음\" 컬럼 추가\n",
        "X[\"연체 없음\"] = (X[\"마지막 연체 이후 경과 개월 수\"] == 0).astype(int)\n",
        "test_df[\"연체 없음\"] = (test_df[\"마지막 연체 이후 경과 개월 수\"] == 0).astype(int)"
      ],
      "metadata": {
        "id": "ujNhSNWPTzPA"
      },
      "execution_count": 88,
      "outputs": []
    },
    {
      "cell_type": "code",
      "source": [
        "drop_cols = ['대출 목적', '개설된 신용계좌 수']\n",
        "\n",
        "X.drop(columns=drop_cols, inplace=True)\n",
        "test_df.drop(columns=drop_cols, inplace=True)"
      ],
      "metadata": {
        "id": "2V1AlQo5tbgO"
      },
      "execution_count": 89,
      "outputs": []
    },
    {
      "cell_type": "code",
      "source": [
        "# 범주형 데이터 처리\n",
        "\n",
        "job_tenure_map = {\n",
        "    \"1년 미만\": 1, \"1년\": 1, \"2년\": 2, \"3년\": 3, \"4년\": 4, \"5년\": 5, \"6년\": 6, \"7년\": 7, \"8년\": 8, \"9년\": 9, \"10년 이상\":10\n",
        "}\n",
        "\n",
        "\n",
        "categorical_cols = [\"주거 형태\", \"현재 직장 근속 연수\", \"대출 목적\", \"대출 상환 기간\"]\n",
        "\n",
        "# 라벨 인코딩 (현재 직장 근속 연수)\n",
        "job_tenure = \"현재 직장 근속 연수\"\n",
        "X[job_tenure] = X[job_tenure].map(job_tenure_map)\n",
        "test_df[job_tenure] = test_df[job_tenure].map(job_tenure_map)\n",
        "\n",
        "# 원-핫 인코딩 적용\n",
        "X = pd.get_dummies(X, columns=[\"주거 형태\",  \"대출 상환 기간\"], drop_first=True)\n",
        "test_df = pd.get_dummies(test_df, columns=[\"주거 형태\",  \"대출 상환 기간\"], drop_first=True)"
      ],
      "metadata": {
        "id": "dEN_JtP2T6Th"
      },
      "execution_count": 90,
      "outputs": []
    },
    {
      "cell_type": "code",
      "source": [
        "# 함수 정의\n",
        "# 원저라이징: 상/하한 범위로 자름.\n",
        "def winsorize_series(s, lower_quantile=0.01, upper_quantile=0.99):\n",
        "    lower_val = s.quantile(lower_quantile)\n",
        "    upper_val = s.quantile(upper_quantile)\n",
        "    return s.clip(lower_val, upper_val)\n",
        "\n",
        "# IQR 기반 이상치 처리\n",
        "def iqr_capping(df, col, factor=1.5):\n",
        "    Q1 = df[col].quantile(0.25)\n",
        "    Q3 = df[col].quantile(0.75)\n",
        "    IQR = Q3 - Q1\n",
        "    upper_bound = Q3 + factor * IQR\n",
        "    df[col] = np.where(df[col] > upper_bound, upper_bound, df[col])"
      ],
      "metadata": {
        "id": "yF5BFCEsOCWB"
      },
      "execution_count": 91,
      "outputs": []
    },
    {
      "cell_type": "code",
      "source": [
        "# 함수적용 및 로그변환\n",
        "log_columns = [\"현재 미상환 신용액\", \"월 상환 부채액\", \"현재 대출 잔액\"]\n",
        "for df in [X, test_df]:\n",
        "    for col in log_columns:\n",
        "        df[col] = winsorize_series(df[col], 0.01, 0.99)\n",
        "        df[col] = np.log1p(df[col])\n",
        "\n",
        "for df in [X, test_df]:\n",
        "    iqr_capping(df, \"연간 소득\", factor=1.5)"
      ],
      "metadata": {
        "id": "ZoYpktypUEdQ"
      },
      "execution_count": 92,
      "outputs": []
    },
    {
      "cell_type": "code",
      "source": [
        "knn_imputer = KNNImputer(n_neighbors=10)\n",
        "X_imputed = knn_imputer.fit_transform(X)\n",
        "test_imputed = knn_imputer.transform(test_df)"
      ],
      "metadata": {
        "id": "IfjpMP7PUiCy"
      },
      "execution_count": 93,
      "outputs": []
    },
    {
      "cell_type": "code",
      "source": [
        "scaler = StandardScaler()\n",
        "X_scaled = scaler.fit_transform(X_imputed)\n",
        "test_scaled = scaler.transform(test_imputed)"
      ],
      "metadata": {
        "id": "wIc-fAbpUGwk"
      },
      "execution_count": 94,
      "outputs": []
    },
    {
      "cell_type": "code",
      "source": [
        "X_train, X_test, y_train, y_test = train_test_split(X_scaled, y, test_size=0.2, random_state=42)\n",
        "\n",
        "sgd_model = SGDClassifier(loss='log_loss', penalty='l2', max_iter=1000, random_state=42)\n",
        "\n",
        "sgd_model.fit(X_train, y_train)\n",
        "print(\"Train Score:\", sgd_model.score(X_train, y_train))\n",
        "print(\"Test Score :\", sgd_model.score(X_test, y_test))"
      ],
      "metadata": {
        "colab": {
          "base_uri": "https://localhost:8080/"
        },
        "id": "Ne8FVVLvULZb",
        "outputId": "c7f22a0a-a223-40c7-a7ed-b9b870c47429"
      },
      "execution_count": 95,
      "outputs": [
        {
          "output_type": "stream",
          "name": "stdout",
          "text": [
            "Train Score: 0.672875\n",
            "Test Score : 0.646\n"
          ]
        }
      ]
    },
    {
      "cell_type": "code",
      "source": [
        "# 테스트 데이터 예측 & 저장\n",
        "test_preds = sgd_model.predict_proba(test_scaled)[:, 1]\n",
        "submission = pd.DataFrame({\"UID\": test_uid[\"UID\"], \"채무 불이행 확률\": test_preds})\n",
        "submission.to_csv(\"submission.csv\", index=False)\n",
        "print(\"✅ 제출 파일 생성 완료! 'submission.csv' 저장되었습니다.\")"
      ],
      "metadata": {
        "colab": {
          "base_uri": "https://localhost:8080/"
        },
        "id": "SGBi2P6ZUNSW",
        "outputId": "ffa5d0fb-885f-4fad-e6d2-bc0c6cb13291"
      },
      "execution_count": 96,
      "outputs": [
        {
          "output_type": "stream",
          "name": "stdout",
          "text": [
            "✅ 제출 파일 생성 완료! 'submission.csv' 저장되었습니다.\n"
          ]
        }
      ]
    },
    {
      "cell_type": "code",
      "source": [
        "# ✅ ROC-AUC 계산\n",
        "y_test_proba = sgd_model.predict_proba(X_test)[:, 1]\n",
        "print(\"✅ Test ROC-AUC:\", roc_auc_score(y_test, y_test_proba))\n",
        "\n",
        "\n",
        "# ROC Curve 계산\n",
        "fpr, tpr, thresholds = roc_curve(y_test, y_test_proba)\n",
        "auc_score = roc_auc_score(y_test, y_test_proba)\n",
        "\n",
        "# 그래프 그리기\n",
        "plt.figure(figsize=(8, 6))\n",
        "plt.plot(fpr, tpr, label=f\"ROC Curve (AUC = {auc_score:.4f})\")\n",
        "plt.plot([0, 1], [0, 1], 'k--', label=\"Random Guessing\")\n",
        "plt.xlabel(\"False Positive Rate\")\n",
        "plt.ylabel(\"True Positive Rate\")\n",
        "plt.title(\"ROC Curve\")\n",
        "plt.legend()\n",
        "plt.grid(True)\n",
        "plt.show()"
      ],
      "metadata": {
        "colab": {
          "base_uri": "https://localhost:8080/",
          "height": 583
        },
        "id": "YG3sr_nMUPsM",
        "outputId": "3e65dbd6-825b-47f9-b5f3-71004fd25b5e"
      },
      "execution_count": 97,
      "outputs": [
        {
          "output_type": "stream",
          "name": "stdout",
          "text": [
            "✅ Test ROC-AUC: 0.6386527882644807\n"
          ]
        },
        {
          "output_type": "display_data",
          "data": {
            "text/plain": [
              "<Figure size 800x600 with 1 Axes>"
            ],
            "image/png": "[encoded data removed]"
          },
          "metadata": {}
        }
      ]
    },
    {
      "cell_type": "code",
      "source": [],
      "metadata": {
        "id": "umuOWsc4WyMu"
      },
      "execution_count": null,
      "outputs": []
    }
  ]
}