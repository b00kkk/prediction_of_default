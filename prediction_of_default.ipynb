{
  "nbformat": 4,
  "nbformat_minor": 0,
  "metadata": {
    "colab": {
      "provenance": []
    },
    "kernelspec": {
      "name": "python3",
      "display_name": "Python 3"
    },
    "language_info": {
      "name": "python"
    }
  },
  "cells": [
    {
      "cell_type": "code",
      "execution_count": 1,
      "metadata": {
        "colab": {
          "base_uri": "https://localhost:8080/"
        },
        "id": "WDpOkQ88Rvfd",
        "outputId": "11a2dcbd-d062-490d-a7f6-57d76eeb2cd7"
      },
      "outputs": [
        {
          "output_type": "stream",
          "name": "stdout",
          "text": [
            "<class 'pandas.core.frame.DataFrame'>\n",
            "RangeIndex: 10000 entries, 0 to 9999\n",
            "Data columns (total 18 columns):\n",
            " #   Column             Non-Null Count  Dtype  \n",
            "---  ------             --------------  -----  \n",
            " 0   UID                10000 non-null  object \n",
            " 1   주거 형태              10000 non-null  object \n",
            " 2   연간 소득              10000 non-null  float64\n",
            " 3   현재 직장 근속 연수        10000 non-null  object \n",
            " 4   체납 세금 압류 횟수        10000 non-null  float64\n",
            " 5   개설된 신용계좌 수         10000 non-null  int64  \n",
            " 6   신용 거래 연수           10000 non-null  float64\n",
            " 7   최대 신용한도            10000 non-null  float64\n",
            " 8   신용 문제 발생 횟수        10000 non-null  int64  \n",
            " 9   마지막 연체 이후 경과 개월 수  10000 non-null  int64  \n",
            " 10  개인 파산 횟수           10000 non-null  int64  \n",
            " 11  대출 목적              10000 non-null  object \n",
            " 12  대출 상환 기간           10000 non-null  object \n",
            " 13  현재 대출 잔액           10000 non-null  float64\n",
            " 14  현재 미상환 신용액         10000 non-null  float64\n",
            " 15  월 상환 부채액           10000 non-null  float64\n",
            " 16  신용 점수              10000 non-null  int64  \n",
            " 17  채무 불이행 여부          10000 non-null  int64  \n",
            "dtypes: float64(7), int64(6), object(5)\n",
            "memory usage: 1.4+ MB\n",
            "<class 'pandas.core.frame.DataFrame'>\n",
            "RangeIndex: 2062 entries, 0 to 2061\n",
            "Data columns (total 17 columns):\n",
            " #   Column             Non-Null Count  Dtype  \n",
            "---  ------             --------------  -----  \n",
            " 0   UID                2062 non-null   object \n",
            " 1   주거 형태              2062 non-null   object \n",
            " 2   연간 소득              2062 non-null   float64\n",
            " 3   현재 직장 근속 연수        2062 non-null   object \n",
            " 4   체납 세금 압류 횟수        2062 non-null   float64\n",
            " 5   개설된 신용계좌 수         2062 non-null   int64  \n",
            " 6   신용 거래 연수           2062 non-null   float64\n",
            " 7   최대 신용한도            2062 non-null   float64\n",
            " 8   신용 문제 발생 횟수        2062 non-null   int64  \n",
            " 9   마지막 연체 이후 경과 개월 수  2062 non-null   int64  \n",
            " 10  개인 파산 횟수           2062 non-null   int64  \n",
            " 11  대출 목적              2062 non-null   object \n",
            " 12  대출 상환 기간           2062 non-null   object \n",
            " 13  현재 대출 잔액           2062 non-null   float64\n",
            " 14  현재 미상환 신용액         2062 non-null   float64\n",
            " 15  월 상환 부채액           2062 non-null   float64\n",
            " 16  신용 점수              2062 non-null   int64  \n",
            "dtypes: float64(7), int64(5), object(5)\n",
            "memory usage: 274.0+ KB\n"
          ]
        },
        {
          "output_type": "execute_result",
          "data": {
            "text/plain": [
              "(None,\n",
              " None,\n",
              "            UID 주거 형태      연간 소득 현재 직장 근속 연수  체납 세금 압류 횟수  개설된 신용계좌 수  \\\n",
              " 0  TRAIN_00000    자가  1941337.5      10년 이상          0.0           9   \n",
              " 1  TRAIN_00001    월세  1979505.0      10년 이상          0.0           5   \n",
              " 2  TRAIN_00002    월세  1356381.0          4년          0.0          12   \n",
              " 3  TRAIN_00003    월세  1049017.5          6년          0.0          15   \n",
              " 4  TRAIN_00004    월세  4320217.5          2년          0.0          11   \n",
              " \n",
              "    신용 거래 연수   최대 신용한도  신용 문제 발생 횟수  마지막 연체 이후 경과 개월 수  개인 파산 횟수  대출 목적  \\\n",
              " 0      13.4  400597.5            0                 24         1  부채 통합   \n",
              " 1      15.1  360679.5            0                 11         0  부채 통합   \n",
              " 2      18.8  491770.5            1                 74         3  부채 통합   \n",
              " 3      14.8  411546.0            1                 22         1  부채 통합   \n",
              " 4      26.1  895288.5            0                 32         0  부채 통합   \n",
              " \n",
              "   대출 상환 기간   현재 대출 잔액  현재 미상환 신용액  월 상환 부채액  신용 점수  채무 불이행 여부  \n",
              " 0    단기 상환   390903.0    225457.5    8806.5    767          0  \n",
              " 1    단기 상환  1002184.5     64749.0   24961.5    767          0  \n",
              " 2    단기 상환   227775.0    487644.0   12069.0    800          1  \n",
              " 3    단기 상환   251383.5    413211.0   31749.0    796          1  \n",
              " 4    장기 상환  1163176.5     78991.5    5862.0    751          0  )"
            ]
          },
          "metadata": {},
          "execution_count": 1
        }
      ],
      "source": [
        "import pandas as pd\n",
        "\n",
        "# 파일 경로\n",
        "train_path = \"train.csv\"\n",
        "test_path = \"test.csv\"\n",
        "\n",
        "# 데이터 로드\n",
        "train_df = pd.read_csv(train_path)\n",
        "test_df = pd.read_csv(test_path)\n",
        "\n",
        "# 데이터 구조 확인\n",
        "train_info = train_df.info()\n",
        "test_info = test_df.info()\n",
        "\n",
        "# train 데이터 상위 5개 확인\n",
        "train_head = train_df.head()\n",
        "\n",
        "train_info, test_info, train_head"
      ]
    },
    {
      "cell_type": "code",
      "source": [
        "from sklearn.model_selection import train_test_split\n",
        "from sklearn.preprocessing import LabelEncoder, StandardScaler\n",
        "\n",
        "# 1. 불필요한 컬럼 제거\n",
        "train_df = train_df.drop(columns=[\"UID\"])\n",
        "test_UID=test_df.pop('UID')\n",
        "\n",
        "# 2. 범주형 변수 처리 (레이블 인코딩)\n",
        "categorical_cols = [\"주거 형태\", \"현재 직장 근속 연수\", \"대출 목적\", \"대출 상환 기간\"]\n",
        "label_encoders = {}\n",
        "\n",
        "for col in categorical_cols:\n",
        "    le = LabelEncoder()\n",
        "    train_df[col] = le.fit_transform(train_df[col])\n",
        "    test_df[col] = le.transform(test_df[col])\n",
        "    label_encoders[col] = le\n",
        "\n",
        "# 3. 특징(X)과 타겟(y) 분리\n",
        "X = train_df.drop(columns=[\"채무 불이행 여부\"])\n",
        "y = train_df[\"채무 불이행 여부\"]\n",
        "X_test = test_df.copy()\n",
        "\n",
        "# 4. 데이터 분할 (학습용/검증용)\n",
        "X_train, X_valid, y_train, y_valid = train_test_split(X, y, test_size=0.2, random_state=42, stratify=y)\n",
        "\n",
        "# 5. 스케일링 (표준화)\n",
        "scaler = StandardScaler()\n",
        "X_train_scaled = scaler.fit_transform(X_train)\n",
        "X_valid_scaled = scaler.transform(X_valid)\n",
        "X_test_scaled = scaler.transform(X_test)\n",
        "\n",
        "# 데이터 전처리 완료\n",
        "X_train_scaled.shape, X_valid_scaled.shape, X_test_scaled.shape"
      ],
      "metadata": {
        "colab": {
          "base_uri": "https://localhost:8080/"
        },
        "id": "n1NRls1gSXkS",
        "outputId": "b211fcc0-d533-484c-854f-067b3af9f1d0"
      },
      "execution_count": 2,
      "outputs": [
        {
          "output_type": "execute_result",
          "data": {
            "text/plain": [
              "((8000, 16), (2000, 16), (2062, 16))"
            ]
          },
          "metadata": {},
          "execution_count": 2
        }
      ]
    },
    {
      "cell_type": "code",
      "source": [
        "from xgboost import XGBClassifier\n",
        "from sklearn.metrics import roc_auc_score\n",
        "\n",
        "# XGBoost 모델 학습\n",
        "model = XGBClassifier(random_state=42, use_label_encoder=False, eval_metric=\"logloss\")\n",
        "model.fit(X_train_scaled, y_train)\n",
        "\n",
        "# 검증 데이터에 대한 예측\n",
        "y_valid_pred = model.predict_proba(X_valid_scaled)[:, 1]\n",
        "\n",
        "# ROC-AUC 평가\n",
        "roc_auc = roc_auc_score(y_valid, y_valid_pred)\n",
        "roc_auc"
      ],
      "metadata": {
        "colab": {
          "base_uri": "https://localhost:8080/"
        },
        "id": "5MQeEvPaSaw8",
        "outputId": "183f008b-8376-41ea-adb6-82c3e82b7eba"
      },
      "execution_count": 3,
      "outputs": [
        {
          "output_type": "stream",
          "name": "stderr",
          "text": [
            "/usr/local/lib/python3.11/dist-packages/xgboost/core.py:158: UserWarning: [07:48:03] WARNING: /workspace/src/learner.cc:740: \n",
            "Parameters: { \"use_label_encoder\" } are not used.\n",
            "\n",
            "  warnings.warn(smsg, UserWarning)\n"
          ]
        },
        {
          "output_type": "execute_result",
          "data": {
            "text/plain": [
              "0.7058504176326879"
            ]
          },
          "metadata": {},
          "execution_count": 3
        }
      ]
    },
    {
      "cell_type": "code",
      "source": [
        "from sklearn.model_selection import RandomizedSearchCV\n",
        "\n",
        "# XGBoost 하이퍼파라미터 튜닝을 위한 파라미터 그리드\n",
        "param_grid = {\n",
        "    \"n_estimators\": [100, 200, 300],\n",
        "    \"max_depth\": [3, 5, 7],\n",
        "    \"learning_rate\": [0.01, 0.05, 0.1],\n",
        "    \"subsample\": [0.7, 0.8, 0.9],\n",
        "    \"colsample_bytree\": [0.7, 0.8, 0.9]\n",
        "}\n",
        "\n",
        "# RandomizedSearchCV 실행\n",
        "xgb = XGBClassifier(random_state=42, eval_metric=\"logloss\", use_label_encoder=False)\n",
        "random_search = RandomizedSearchCV(xgb, param_grid, n_iter=10, scoring=\"roc_auc\", cv=3, random_state=42, n_jobs=-1)\n",
        "random_search.fit(X_train_scaled, y_train)\n",
        "\n",
        "# 최적 파라미터 및 성능 확인\n",
        "best_params = random_search.best_params_\n",
        "best_score = random_search.best_score_\n",
        "\n",
        "best_params, best_score"
      ],
      "metadata": {
        "colab": {
          "base_uri": "https://localhost:8080/"
        },
        "id": "VEPZdMdzSlM7",
        "outputId": "f2d02842-c308-4e97-b812-80a083884ccc"
      },
      "execution_count": 4,
      "outputs": [
        {
          "output_type": "stream",
          "name": "stderr",
          "text": [
            "/usr/local/lib/python3.11/dist-packages/xgboost/core.py:158: UserWarning: [07:48:45] WARNING: /workspace/src/learner.cc:740: \n",
            "Parameters: { \"use_label_encoder\" } are not used.\n",
            "\n",
            "  warnings.warn(smsg, UserWarning)\n"
          ]
        },
        {
          "output_type": "execute_result",
          "data": {
            "text/plain": [
              "({'subsample': 0.9,\n",
              "  'n_estimators': 200,\n",
              "  'max_depth': 3,\n",
              "  'learning_rate': 0.05,\n",
              "  'colsample_bytree': 0.8},\n",
              " 0.7427826617478358)"
            ]
          },
          "metadata": {},
          "execution_count": 4
        }
      ]
    },
    {
      "cell_type": "code",
      "source": [
        "# 최적 하이퍼파라미터로 XGBoost 모델 재학습\n",
        "best_model = XGBClassifier(**best_params, random_state=42, eval_metric=\"logloss\")\n",
        "best_model.fit(X_train_scaled, y_train)\n",
        "\n",
        "# 검증 데이터 평가\n",
        "y_valid_pred = best_model.predict_proba(X_valid_scaled)[:, 1]\n",
        "roc_auc_final = roc_auc_score(y_valid, y_valid_pred)\n",
        "\n",
        "# 테스트 데이터 예측\n",
        "y_test_pred = best_model.predict_proba(X_test_scaled)[:, 1]\n",
        "\n",
        "roc_auc_final"
      ],
      "metadata": {
        "colab": {
          "base_uri": "https://localhost:8080/"
        },
        "id": "IElvX8f1S4iZ",
        "outputId": "0ec97479-72bb-4743-bf20-69f5054b82cb"
      },
      "execution_count": 5,
      "outputs": [
        {
          "output_type": "execute_result",
          "data": {
            "text/plain": [
              "0.750733137829912"
            ]
          },
          "metadata": {},
          "execution_count": 5
        }
      ]
    },
    {
      "cell_type": "code",
      "source": [
        "import pandas as pd\n",
        "\n",
        "# 예측 결과 저장\n",
        "result10 = pd.DataFrame({\"UID\": test_UID, \"채무 불이행 확률\": y_test_pred})\n",
        "result10.to_csv(\"result10.csv\", index=False)"
      ],
      "metadata": {
        "id": "uH5nTyBiTOqj"
      },
      "execution_count": 8,
      "outputs": []
    },
    {
      "cell_type": "code",
      "source": [],
      "metadata": {
        "id": "O_SlELKWVA2H"
      },
      "execution_count": null,
      "outputs": []
    }
  ]
}