{
  "nbformat": 4,
  "nbformat_minor": 0,
  "metadata": {
    "colab": {
      "provenance": []
    },
    "kernelspec": {
      "name": "python3",
      "display_name": "Python 3"
    },
    "language_info": {
      "name": "python"
    }
  },
  "cells": [
    {
      "cell_type": "code",
      "source": [
        "import warnings\n",
        "warnings.filterwarnings('ignore')"
      ],
      "metadata": {
        "id": "BeCUXFbKfZEx"
      },
      "execution_count": 1,
      "outputs": []
    },
    {
      "cell_type": "markdown",
      "source": [
        "딥러닝"
      ],
      "metadata": {
        "id": "NSgj0RlNhZU8"
      }
    },
    {
      "cell_type": "code",
      "source": [
        "import numpy as np\n",
        "import pandas as pd\n",
        "import tensorflow as tf\n",
        "from tensorflow import keras\n",
        "from tensorflow.keras import layers\n",
        "from sklearn.model_selection import train_test_split\n",
        "from sklearn.preprocessing import OneHotEncoder, StandardScaler\n",
        "from sklearn.metrics import roc_auc_score\n",
        "\n",
        "# ✅ 데이터 로드\n",
        "train_path = \"train.csv\"\n",
        "test_path = \"test.csv\"\n",
        "\n",
        "train_df = pd.read_csv(train_path)\n",
        "test_df = pd.read_csv(test_path)\n",
        "\n",
        "# ✅ 목표 변수 분리\n",
        "X = train_df.drop(columns=[\"UID\", \"채무 불이행 여부\"])\n",
        "y = train_df[\"채무 불이행 여부\"]\n",
        "\n",
        "# 테스트 데이터 UID 저장\n",
        "test_UID = test_df.pop(\"UID\")\n",
        "X_test = test_df\n",
        "\n",
        "# ✅ 범주형 변수 인코딩\n",
        "categorical_cols = [\"주거 형태\", \"현재 직장 근속 연수\", \"대출 목적\", \"대출 상환 기간\"]\n",
        "encoder = OneHotEncoder(sparse_output=False, drop=\"first\")\n",
        "\n",
        "X_encoded = encoder.fit_transform(X[categorical_cols])\n",
        "X_test_encoded = encoder.transform(X_test[categorical_cols])\n",
        "\n",
        "encoded_cols = encoder.get_feature_names_out(categorical_cols)\n",
        "\n",
        "X_encoded_df = pd.DataFrame(X_encoded, columns=encoded_cols, index=X.index)\n",
        "X_test_encoded_df = pd.DataFrame(X_test_encoded, columns=encoded_cols, index=X_test.index)\n",
        "\n",
        "# ✅ 기존 데이터에서 범주형 변수 제거 후 결합\n",
        "X = X.drop(columns=categorical_cols).reset_index(drop=True)\n",
        "X_test = X_test.drop(columns=categorical_cols).reset_index(drop=True)\n",
        "\n",
        "X = pd.concat([X, X_encoded_df], axis=1)\n",
        "X_test = pd.concat([X_test, X_test_encoded_df], axis=1)\n",
        "\n",
        "# ✅ 데이터 스케일링\n",
        "scaler = StandardScaler()\n",
        "X_scaled = scaler.fit_transform(X)\n",
        "X_test_scaled = scaler.transform(X_test)\n",
        "\n",
        "# ✅ 훈련 데이터 분할\n",
        "X_train, X_valid, y_train, y_valid = train_test_split(X_scaled, y, test_size=0.2, random_state=42, stratify=y)\n",
        "\n",
        "# ✅ MLP (Multi-Layer Perceptron) 모델 설계\n",
        "def build_model(input_dim):\n",
        "    model = keras.Sequential([\n",
        "        layers.Dense(256, activation=\"relu\", input_shape=(input_dim,)),\n",
        "        layers.BatchNormalization(),\n",
        "        layers.Dropout(0.3),\n",
        "\n",
        "        layers.Dense(128, activation=\"relu\"),\n",
        "        layers.BatchNormalization(),\n",
        "        layers.Dropout(0.3),\n",
        "\n",
        "        layers.Dense(64, activation=\"relu\"),\n",
        "        layers.BatchNormalization(),\n",
        "        layers.Dropout(0.3),\n",
        "\n",
        "        layers.Dense(1, activation=\"sigmoid\")  # Binary Classification\n",
        "    ])\n",
        "\n",
        "    model.compile(optimizer=keras.optimizers.Adam(learning_rate=0.001),\n",
        "                  loss=\"binary_crossentropy\",\n",
        "                  metrics=[keras.metrics.AUC()])\n",
        "\n",
        "    return model\n",
        "\n",
        "# ✅ 모델 생성\n",
        "model = build_model(X_train.shape[1])\n",
        "\n",
        "# ✅ 모델 학습\n",
        "early_stopping = keras.callbacks.EarlyStopping(monitor=\"val_auc\", patience=10, restore_best_weights=True, mode=\"max\")\n",
        "\n",
        "history = model.fit(\n",
        "    X_train, y_train,\n",
        "    validation_data=(X_valid, y_valid),\n",
        "    epochs=100,\n",
        "    batch_size=32,\n",
        "    callbacks=[early_stopping],\n",
        "    verbose=1\n",
        ")\n",
        "\n",
        "# ✅ 검증 데이터 성능 평가\n",
        "y_valid_pred = model.predict(X_valid).flatten()\n",
        "roc_auc = roc_auc_score(y_valid, y_valid_pred)\n",
        "print(f\"🔥 딥러닝 모델 ROC-AUC: {roc_auc:.6f}\")\n",
        "\n",
        "# ✅ 테스트 데이터 예측\n",
        "y_test_pred = model.predict(X_test_scaled).flatten()\n",
        "\n",
        "# ✅ 제출 파일 생성\n",
        "submission = pd.DataFrame({\"UID\": test_UID, \"채무 불이행 확률\": y_test_pred})\n",
        "submission.to_csv(\"submission.csv\", index=False)\n",
        "\n",
        "print(\"✅ 딥러닝 모델 예측 완료! 결과가 submission.csv에 저장되었습니다.\")\n"
      ],
      "metadata": {
        "colab": {
          "base_uri": "https://localhost:8080/"
        },
        "id": "kRjYVNyggW2R",
        "outputId": "e2c0f478-33c0-4263-a5c2-bd4db442f39c"
      },
      "execution_count": 9,
      "outputs": [
        {
          "output_type": "stream",
          "name": "stdout",
          "text": [
            "Epoch 1/100\n",
            "\u001b[1m250/250\u001b[0m \u001b[32m━━━━━━━━━━━━━━━━━━━━\u001b[0m\u001b[37m\u001b[0m \u001b[1m5s\u001b[0m 5ms/step - auc: 0.5884 - loss: 0.8126 - val_auc: 0.6980 - val_loss: 0.5990\n",
            "Epoch 2/100\n",
            "\u001b[1m250/250\u001b[0m \u001b[32m━━━━━━━━━━━━━━━━━━━━\u001b[0m\u001b[37m\u001b[0m \u001b[1m2s\u001b[0m 5ms/step - auc: 0.6620 - loss: 0.6416 - val_auc: 0.7164 - val_loss: 0.5784\n",
            "Epoch 3/100\n",
            "\u001b[1m250/250\u001b[0m \u001b[32m━━━━━━━━━━━━━━━━━━━━\u001b[0m\u001b[37m\u001b[0m \u001b[1m2s\u001b[0m 4ms/step - auc: 0.6723 - loss: 0.6168 - val_auc: 0.7257 - val_loss: 0.5721\n",
            "Epoch 4/100\n",
            "\u001b[1m250/250\u001b[0m \u001b[32m━━━━━━━━━━━━━━━━━━━━\u001b[0m\u001b[37m\u001b[0m \u001b[1m1s\u001b[0m 4ms/step - auc: 0.7099 - loss: 0.5892 - val_auc: 0.7328 - val_loss: 0.5662\n",
            "Epoch 5/100\n",
            "\u001b[1m250/250\u001b[0m \u001b[32m━━━━━━━━━━━━━━━━━━━━\u001b[0m\u001b[37m\u001b[0m \u001b[1m1s\u001b[0m 4ms/step - auc: 0.7284 - loss: 0.5689 - val_auc: 0.7264 - val_loss: 0.5694\n",
            "Epoch 6/100\n",
            "\u001b[1m250/250\u001b[0m \u001b[32m━━━━━━━━━━━━━━━━━━━━\u001b[0m\u001b[37m\u001b[0m \u001b[1m1s\u001b[0m 4ms/step - auc: 0.7236 - loss: 0.5725 - val_auc: 0.7324 - val_loss: 0.5650\n",
            "Epoch 7/100\n",
            "\u001b[1m250/250\u001b[0m \u001b[32m━━━━━━━━━━━━━━━━━━━━\u001b[0m\u001b[37m\u001b[0m \u001b[1m1s\u001b[0m 4ms/step - auc: 0.7355 - loss: 0.5636 - val_auc: 0.7361 - val_loss: 0.5629\n",
            "Epoch 8/100\n",
            "\u001b[1m250/250\u001b[0m \u001b[32m━━━━━━━━━━━━━━━━━━━━\u001b[0m\u001b[37m\u001b[0m \u001b[1m1s\u001b[0m 4ms/step - auc: 0.7349 - loss: 0.5578 - val_auc: 0.7363 - val_loss: 0.5633\n",
            "Epoch 9/100\n",
            "\u001b[1m250/250\u001b[0m \u001b[32m━━━━━━━━━━━━━━━━━━━━\u001b[0m\u001b[37m\u001b[0m \u001b[1m1s\u001b[0m 4ms/step - auc: 0.7353 - loss: 0.5626 - val_auc: 0.7331 - val_loss: 0.5666\n",
            "Epoch 10/100\n",
            "\u001b[1m250/250\u001b[0m \u001b[32m━━━━━━━━━━━━━━━━━━━━\u001b[0m\u001b[37m\u001b[0m \u001b[1m1s\u001b[0m 6ms/step - auc: 0.7540 - loss: 0.5461 - val_auc: 0.7333 - val_loss: 0.5647\n",
            "Epoch 11/100\n",
            "\u001b[1m250/250\u001b[0m \u001b[32m━━━━━━━━━━━━━━━━━━━━\u001b[0m\u001b[37m\u001b[0m \u001b[1m1s\u001b[0m 6ms/step - auc: 0.7530 - loss: 0.5491 - val_auc: 0.7311 - val_loss: 0.5668\n",
            "Epoch 12/100\n",
            "\u001b[1m250/250\u001b[0m \u001b[32m━━━━━━━━━━━━━━━━━━━━\u001b[0m\u001b[37m\u001b[0m \u001b[1m2s\u001b[0m 4ms/step - auc: 0.7525 - loss: 0.5422 - val_auc: 0.7280 - val_loss: 0.5685\n",
            "Epoch 13/100\n",
            "\u001b[1m250/250\u001b[0m \u001b[32m━━━━━━━━━━━━━━━━━━━━\u001b[0m\u001b[37m\u001b[0m \u001b[1m1s\u001b[0m 4ms/step - auc: 0.7662 - loss: 0.5386 - val_auc: 0.7326 - val_loss: 0.5645\n",
            "Epoch 14/100\n",
            "\u001b[1m250/250\u001b[0m \u001b[32m━━━━━━━━━━━━━━━━━━━━\u001b[0m\u001b[37m\u001b[0m \u001b[1m1s\u001b[0m 4ms/step - auc: 0.7635 - loss: 0.5363 - val_auc: 0.7316 - val_loss: 0.5678\n",
            "Epoch 15/100\n",
            "\u001b[1m250/250\u001b[0m \u001b[32m━━━━━━━━━━━━━━━━━━━━\u001b[0m\u001b[37m\u001b[0m \u001b[1m1s\u001b[0m 4ms/step - auc: 0.7709 - loss: 0.5322 - val_auc: 0.7310 - val_loss: 0.5683\n",
            "Epoch 16/100\n",
            "\u001b[1m250/250\u001b[0m \u001b[32m━━━━━━━━━━━━━━━━━━━━\u001b[0m\u001b[37m\u001b[0m \u001b[1m1s\u001b[0m 4ms/step - auc: 0.7621 - loss: 0.5416 - val_auc: 0.7329 - val_loss: 0.5693\n",
            "Epoch 17/100\n",
            "\u001b[1m250/250\u001b[0m \u001b[32m━━━━━━━━━━━━━━━━━━━━\u001b[0m\u001b[37m\u001b[0m \u001b[1m1s\u001b[0m 4ms/step - auc: 0.7735 - loss: 0.5322 - val_auc: 0.7282 - val_loss: 0.5688\n",
            "Epoch 18/100\n",
            "\u001b[1m250/250\u001b[0m \u001b[32m━━━━━━━━━━━━━━━━━━━━\u001b[0m\u001b[37m\u001b[0m \u001b[1m1s\u001b[0m 4ms/step - auc: 0.7659 - loss: 0.5384 - val_auc: 0.7279 - val_loss: 0.5713\n",
            "\u001b[1m63/63\u001b[0m \u001b[32m━━━━━━━━━━━━━━━━━━━━\u001b[0m\u001b[37m\u001b[0m \u001b[1m0s\u001b[0m 3ms/step\n",
            "🔥 딥러닝 모델 ROC-AUC: 0.736168\n",
            "\u001b[1m65/65\u001b[0m \u001b[32m━━━━━━━━━━━━━━━━━━━━\u001b[0m\u001b[37m\u001b[0m \u001b[1m0s\u001b[0m 3ms/step\n",
            "✅ 딥러닝 모델 예측 완료! 결과가 submission.csv에 저장되었습니다.\n"
          ]
        }
      ]
    },
    {
      "cell_type": "code",
      "source": [],
      "metadata": {
        "id": "gkScy9C4han1"
      },
      "execution_count": null,
      "outputs": []
    }
  ]
}